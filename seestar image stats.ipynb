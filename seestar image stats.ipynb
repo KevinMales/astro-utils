{
 "cells": [
  {
   "cell_type": "code",
   "execution_count": 14,
   "metadata": {},
   "outputs": [],
   "source": [
    "# Analyse timestamps of fits files from a Seestar S50 session to show dropped frame stats"
   ]
  },
  {
   "cell_type": "code",
   "execution_count": 71,
   "metadata": {},
   "outputs": [],
   "source": [
    "from astropy.io import fits\n",
    "from pathlib import Path\n",
    "from datetime import datetime as dt\n",
    "import numpy as np\n",
    "\n",
    "FITS_DIR = 'C:/SeeStar_images/Amphitrite/2024-01-19/Amphitrite-sub/'\n",
    "\n",
    "EXP_TIME = 10.0 # exposure time\n",
    "PROC_TIME = 1.0  #overhead for stacking\n",
    "CYCLE_TIME = EXP_TIME + PROC_TIME  # approx elapsed time for a single imaging cycle of 10s\n",
    "\n",
    "TICK_INTERVAL = 15 * 60  # tick spacing in timeline plot (in s)"
   ]
  },
  {
   "cell_type": "code",
   "execution_count": 16,
   "metadata": {},
   "outputs": [],
   "source": [
    "# file handling\n",
    "\n",
    "def read_timestamp(file):\n",
    "    with fits.open(file) as hdul:\n",
    "        hdr = hdul[0].header\n",
    "        return hdr['DATE-OBS']\n",
    "    \n",
    "def read_all_timestamps(dir):\n",
    "    fit_path = Path(dir)\n",
    "    return [read_timestamp(p) for p in fit_path.glob('*.fit')]\n",
    "\n"
   ]
  },
  {
   "cell_type": "code",
   "execution_count": 42,
   "metadata": {},
   "outputs": [],
   "source": [
    "# analysis\n",
    "\n",
    "def timestamps_to_floats(ts, normalise = False):\n",
    "    floats =  [dt.fromisoformat(t).timestamp() for t in ts]\n",
    "    if normalise: \n",
    "        start = floats[0]\n",
    "        floats = [f - start for f in floats]\n",
    "    # return results as numpy array for further analysis\n",
    "    return np.round(np.array(floats))\n",
    "\n",
    "def timestamp_gaps(ts):\n",
    "    return np.round(np.diff(ts/CYCLE_TIME)) - 1\n",
    "\n"
   ]
  },
  {
   "cell_type": "code",
   "execution_count": 43,
   "metadata": {},
   "outputs": [],
   "source": [
    "timestamps = read_all_timestamps(FITS_DIR)\n",
    "\n",
    "float_timestamps = timestamps_to_floats(timestamps)\n",
    "\n",
    "gaps = timestamp_gaps(float_timestamps)"
   ]
  },
  {
   "cell_type": "code",
   "execution_count": 44,
   "metadata": {},
   "outputs": [
    {
     "data": {
      "text/plain": [
       "Counter({0.0: 85,\n",
       "         3.0: 10,\n",
       "         1.0: 47,\n",
       "         2.0: 4,\n",
       "         7.0: 2,\n",
       "         9.0: 2,\n",
       "         8.0: 1,\n",
       "         6.0: 1,\n",
       "         4.0: 2,\n",
       "         5.0: 3,\n",
       "         15.0: 1,\n",
       "         10.0: 1})"
      ]
     },
     "execution_count": 44,
     "metadata": {},
     "output_type": "execute_result"
    }
   ],
   "source": [
    "import collections\n",
    "\n",
    "counter = collections.Counter(gaps)\n",
    "counter"
   ]
  },
  {
   "cell_type": "code",
   "execution_count": 64,
   "metadata": {},
   "outputs": [
    {
     "name": "stdout",
     "output_type": "stream",
     "text": [
      "Total number of image slots:  339\n",
      "Total number of image frames:  160\n",
      "Skipped frames:  179\n",
      "Capture efficiency: 47.2%\n",
      "Longest run of dropped frames:  15\n",
      "Total imaging time:  01:03\n"
     ]
    }
   ],
   "source": [
    "# Basic stats for this run\n",
    "\n",
    "nframes = len(timestamps)\n",
    "skip_frames = int(sum(gaps))\n",
    "frame_slots = skip_frames + nframes\n",
    "total_time = dt.fromtimestamp(float_timestamps[-1] - float_timestamps[0]).strftime('%H:%M')\n",
    "\n",
    "print('Total number of image slots: ', frame_slots)\n",
    "print('Total number of image frames: ', nframes)\n",
    "print('Skipped frames: ', skip_frames)\n",
    "print(f'Capture efficiency: {nframes / frame_slots:.1%}')\n",
    "print('Longest run of dropped frames: ', int(max(counter)))\n",
    "print('Total imaging time: ', total_time)"
   ]
  },
  {
   "cell_type": "code",
   "execution_count": 52,
   "metadata": {},
   "outputs": [
    {
     "data": {
      "image/png": "[encoded data removed]",
      "text/plain": [
       "<Figure size 432x288 with 1 Axes>"
      ]
     },
     "metadata": {
      "needs_background": "light"
     },
     "output_type": "display_data"
    }
   ],
   "source": [
    "import matplotlib.pyplot as plt\n",
    "from matplotlib.ticker import FormatStrFormatter\n",
    "from matplotlib.ticker import MaxNLocator\n",
    "\n",
    "\n",
    "# gap plot\n",
    "indices = list(range(len(gaps)))\n",
    "plt.bar(indices, gaps)\n",
    "ax = plt.gca()\n",
    "ax.yaxis.set_major_formatter(FormatStrFormatter('%.0d'))\n",
    "ax.yaxis.set_major_locator(MaxNLocator(integer=True))\n",
    "plt.xlabel('Successful frame count')\n",
    "plt.ylabel('Dropped frames')\n",
    "plt.savefig(FITS_DIR + 'frame_gaps.png', format = 'png')\n",
    "plt.show()\n"
   ]
  },
  {
   "cell_type": "code",
   "execution_count": 74,
   "metadata": {},
   "outputs": [
    {
     "data": {
      "image/png": "[encoded data removed]",
      "text/plain": [
       "<Figure size 432x288 with 1 Axes>"
      ]
     },
     "metadata": {
      "needs_background": "light"
     },
     "output_type": "display_data"
    }
   ],
   "source": [
    "# linear plot\n",
    "\n",
    "import matplotlib.ticker as ticker \n",
    "\n",
    "def label_format(ts, pos):\n",
    "    return dt.fromtimestamp(ts).strftime('%H:%M')\n",
    "\n",
    "\n",
    "plt.bar(float_timestamps, 1, CYCLE_TIME)\n",
    "ax = plt.gca()\n",
    "ax.get_yaxis().set_visible(False)\n",
    "ax.xaxis.set_major_locator(ticker.MultipleLocator(TICK_INTERVAL))\n",
    "ax.xaxis.set_major_formatter(ticker.FuncFormatter(label_format))\n",
    "plt.xlabel('Frame time (s)')\n",
    "plt.savefig(FITS_DIR + 'frame_timings.png', format = 'png')\n",
    "plt.show()\n"
   ]
  },
  {
   "cell_type": "code",
   "execution_count": null,
   "metadata": {},
   "outputs": [],
   "source": []
  }
 ],
 "metadata": {
  "kernelspec": {
   "display_name": "base",
   "language": "python",
   "name": "python3"
  },
  "language_info": {
   "codemirror_mode": {
    "name": "ipython",
    "version": 3
   },
   "file_extension": ".py",
   "mimetype": "text/x-python",
   "name": "python",
   "nbconvert_exporter": "python",
   "pygments_lexer": "ipython3",
   "version": "3.8.8"
  }
 },
 "nbformat": 4,
 "nbformat_minor": 2
}
