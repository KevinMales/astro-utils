{
 "cells": [
  {
   "cell_type": "markdown",
   "metadata": {},
   "source": [
    "# Analyse timestamps of fits files from a Seestar S50 session to show dropped frame stats"
   ]
  },
  {
   "cell_type": "code",
   "execution_count": 1,
   "metadata": {},
   "outputs": [],
   "source": [
    "# config data\n",
    "\n",
    "EXP_TIME = 10.0 # exposure time\n",
    "PROC_TIME = 1.0  #overhead for stacking\n",
    "CYCLE_TIME = EXP_TIME + PROC_TIME  # approx elapsed time for a single imaging cycle of 10s\n",
    "\n",
    "TICK_INTERVAL = 15 * 60  # tick spacing in timeline plot (in s)"
   ]
  },
  {
   "cell_type": "code",
   "execution_count": 2,
   "metadata": {},
   "outputs": [],
   "source": [
    "# file handling\n",
    "\n",
    "from astropy.io import fits\n",
    "from pathlib import Path\n",
    "from datetime import datetime as dt\n",
    "import numpy as np\n",
    "\n",
    "def read_timestamp(file):\n",
    "    with fits.open(file) as hdul:\n",
    "        hdr = hdul[0].header\n",
    "        return hdr['DATE-OBS']\n",
    "    \n",
    "def read_all_timestamps(dir):\n",
    "    fit_path = Path(dir)\n",
    "    return [read_timestamp(p) for p in fit_path.glob('*.fit')]\n",
    "\n"
   ]
  },
  {
   "cell_type": "code",
   "execution_count": 37,
   "metadata": {},
   "outputs": [],
   "source": [
    "# analysis\n",
    "\n",
    "def timestamps_to_floats(ts, normalise = False):\n",
    "    # return results as numpy array for further analysis\n",
    "    floats =  np.array([dt.fromisoformat(t).timestamp() for t in ts])\n",
    "    if normalise: \n",
    "        floats = floats - float[0]\n",
    "    \n",
    "    return floats\n",
    "\n",
    "def timestamp_gaps(ts):\n",
    "    return np.round(np.diff(ts/CYCLE_TIME)) - 1\n",
    "\n"
   ]
  },
  {
   "cell_type": "code",
   "execution_count": 4,
   "metadata": {},
   "outputs": [],
   "source": [
    "# Basic stats for this run\n",
    "import sys\n",
    "from datetime import timedelta\n",
    "\n",
    "def print_stats(f = sys.stdout):\n",
    "    nframes = len(timestamps)\n",
    "    skip_frames = int(sum(gaps))\n",
    "    frame_slots = skip_frames + nframes\n",
    "    total_time = dt.fromtimestamp(float_timestamps[-1] - float_timestamps[0]).strftime('%H:%M:%S')\n",
    "    integration_time = timedelta(seconds = nframes * EXP_TIME)\n",
    "\n",
    "    print('Total number of image slots: ', frame_slots, file = f)\n",
    "    print('Total number of image frames: ', nframes, file = f)\n",
    "    print('Skipped frames: ', skip_frames, file = f)\n",
    "    print(f'Capture efficiency: {nframes / frame_slots:.1%}', file = f)\n",
    "    print('Longest run of dropped frames: ', int(max(counter)), file = f)\n",
    "    print('Total elapsed imaging time: ', total_time, file = f)\n",
    "    print('Total integration time: ', integration_time, file = f)\n",
    "\n"
   ]
  },
  {
   "cell_type": "code",
   "execution_count": 5,
   "metadata": {},
   "outputs": [],
   "source": [
    "# directory containing fits lights\n",
    "# run from here for a new set of lights\n",
    "\n",
    "FITS_DIR = 'C:/SeeStar_images/IC 1396/2023-12-06/IC 1396-sub/'"
   ]
  },
  {
   "cell_type": "code",
   "execution_count": 38,
   "metadata": {},
   "outputs": [],
   "source": [
    "timestamps = read_all_timestamps(FITS_DIR)\n",
    "\n",
    "float_timestamps = timestamps_to_floats(timestamps)\n",
    "\n",
    "gaps = timestamp_gaps(float_timestamps)"
   ]
  },
  {
   "cell_type": "code",
   "execution_count": 39,
   "metadata": {},
   "outputs": [
    {
     "data": {
      "text/plain": [
       "Counter({0.0: 181, 1.0: 54, 2.0: 6, 3.0: 1, 5.0: 2})"
      ]
     },
     "execution_count": 39,
     "metadata": {},
     "output_type": "execute_result"
    }
   ],
   "source": [
    "import collections\n",
    "\n",
    "counter = collections.Counter(gaps)\n",
    "counter"
   ]
  },
  {
   "cell_type": "code",
   "execution_count": 40,
   "metadata": {},
   "outputs": [
    {
     "name": "stdout",
     "output_type": "stream",
     "text": [
      "Total number of image slots:  324\n",
      "Total number of image frames:  245\n",
      "Skipped frames:  79\n",
      "Capture efficiency: 75.6%\n",
      "Longest run of dropped frames:  5\n",
      "Total elapsed imaging time:  01:01:02\n",
      "Total integration time:  0:40:50\n"
     ]
    }
   ],
   "source": [
    "with open(FITS_DIR + 'frame_stats.txt', 'w') as f:\n",
    "    print_stats(f)\n",
    "\n",
    "print_stats()"
   ]
  },
  {
   "cell_type": "code",
   "execution_count": 41,
   "metadata": {},
   "outputs": [
    {
     "data": {
      "image/png": "[encoded data removed]",
      "text/plain": [
       "<Figure size 432x288 with 1 Axes>"
      ]
     },
     "metadata": {
      "needs_background": "light"
     },
     "output_type": "display_data"
    }
   ],
   "source": [
    "import matplotlib.pyplot as plt\n",
    "from matplotlib.ticker import FormatStrFormatter\n",
    "from matplotlib.ticker import MaxNLocator\n",
    "\n",
    "\n",
    "# gap plot\n",
    "indices = list(range(len(gaps)))\n",
    "plt.bar(indices, gaps, 1)\n",
    "ax = plt.gca()\n",
    "ax.yaxis.set_major_formatter(FormatStrFormatter('%.0d'))\n",
    "ax.yaxis.set_major_locator(MaxNLocator(integer=True))\n",
    "plt.xlabel('Successful frame count')\n",
    "plt.ylabel('Dropped frames')\n",
    "plt.savefig(FITS_DIR + 'frame_gaps.png', format = 'png')\n",
    "plt.show()\n"
   ]
  },
  {
   "cell_type": "code",
   "execution_count": 42,
   "metadata": {},
   "outputs": [
    {
     "data": {
      "image/png": "[encoded data removed]",
      "text/plain": [
       "<Figure size 432x288 with 1 Axes>"
      ]
     },
     "metadata": {
      "needs_background": "light"
     },
     "output_type": "display_data"
    }
   ],
   "source": [
    "# linear plot\n",
    "\n",
    "import matplotlib.ticker as ticker \n",
    "\n",
    "def label_format(ts, pos):\n",
    "    return dt.fromtimestamp(ts).strftime('%H:%M')\n",
    "\n",
    "\n",
    "plt.bar(float_timestamps, 1, CYCLE_TIME)\n",
    "ax = plt.gca()\n",
    "ax.get_yaxis().set_visible(False)\n",
    "ax.xaxis.set_major_locator(ticker.MultipleLocator(TICK_INTERVAL))\n",
    "ax.xaxis.set_major_formatter(ticker.FuncFormatter(label_format))\n",
    "plt.xlabel('Frame time')\n",
    "plt.savefig(FITS_DIR + 'frame_timings.png', format = 'png')\n",
    "plt.show()\n"
   ]
  },
  {
   "cell_type": "code",
   "execution_count": 47,
   "metadata": {},
   "outputs": [
    {
     "data": {
      "image/png": "[encoded data removed]",
      "text/plain": [
       "<Figure size 432x288 with 1 Axes>"
      ]
     },
     "metadata": {
      "needs_background": "light"
     },
     "output_type": "display_data"
    }
   ],
   "source": [
    "# scatter plot of intervals\n",
    "\n",
    "intervals = np.diff([float_timestamps])\n",
    "\n",
    "indices = list(range(len(gaps)))\n",
    "plt.scatter(indices, intervals, marker = \".\")\n",
    "plt.xlabel('Interval count')\n",
    "plt.ylabel('Interval (s)')\n",
    "plt.savefig(FITS_DIR + 'frame_intervals.png', format = 'png')\n",
    "plt.show()"
   ]
  },
  {
   "cell_type": "code",
   "execution_count": 45,
   "metadata": {},
   "outputs": [
    {
     "data": {
      "text/plain": [
       "array([[11.33269882, 11.34219718, 11.33372402, 22.6412909 , 11.35736489,\n",
       "        11.33722711, 11.37484002, 11.34450698, 22.705549  , 11.40878391,\n",
       "        11.34829211, 11.33531904, 11.35910082, 22.66940117, 11.38235283,\n",
       "        11.33014703, 11.33614516, 11.33558989, 22.68862796, 11.36310816,\n",
       "        11.3313899 , 11.34679604, 11.34366202, 22.67329192, 11.38119197,\n",
       "        11.33378506, 11.33670402, 11.3599031 , 22.69654393, 11.32743692,\n",
       "        11.33697796, 11.35763311, 11.33534598, 22.63690901, 11.36515999,\n",
       "        11.32484889, 11.35420418, 11.3402319 , 22.6409421 , 11.3376658 ,\n",
       "        11.33187604, 11.33035803, 11.33489013, 22.63830686, 11.38539696,\n",
       "        11.33512402, 11.34730005, 11.34775996, 22.63445401, 11.36555505,\n",
       "        11.33447695, 11.33027506, 11.33515692, 22.64101315, 11.35544896,\n",
       "        11.33970094, 11.32821798, 11.33537006, 22.63590598, 11.33310604,\n",
       "        11.34231496, 11.36697292, 11.34745121, 22.641572  , 11.34712696,\n",
       "        11.3440609 , 11.33381009, 11.36719799, 22.6377449 , 11.36066008,\n",
       "        11.36988688, 11.38866305, 11.34791708, 22.63936901, 11.33524203,\n",
       "        11.3238728 , 11.33990908, 11.32869601, 22.67087293, 11.37298918,\n",
       "        11.34610391, 11.3477211 , 11.34288692, 22.6456511 , 11.35610795,\n",
       "        11.33125401, 11.36696386, 11.39974809, 22.69963503, 11.36250901,\n",
       "        11.33458996, 11.334795  , 11.33109903, 22.67271399, 11.35198903,\n",
       "        11.33423781, 11.3401742 , 11.37136292, 22.64640307, 11.33766699,\n",
       "        11.330477  , 11.33370686, 11.33614707, 22.63458705, 11.35819793,\n",
       "        11.34952307, 11.35277796, 11.35945392, 22.64078903, 11.35977101,\n",
       "        11.32882094, 11.33440518, 11.33508182, 22.634763  , 11.36208916,\n",
       "        11.33528185, 11.35241103, 11.33864999, 22.67132616, 11.35556889,\n",
       "        11.34279609, 11.32673883, 11.33243012, 22.67281508, 11.35298181,\n",
       "        11.33072615, 11.33343005, 11.34012294, 22.71230793, 11.33332396,\n",
       "        11.33735204, 11.32900906, 11.33391285, 22.64744115, 11.37721801,\n",
       "        11.33798003, 11.34215498, 11.35377097, 22.63920188, 11.38315916,\n",
       "        11.36148596, 11.34533286, 11.3460772 , 22.64544082, 11.38670421,\n",
       "        11.32971883, 11.338866  , 11.36853909, 22.65303588, 11.35824108,\n",
       "        11.33327293, 11.333179  , 11.33200502, 22.64611816, 11.35835791,\n",
       "        11.3351481 , 11.34552193, 11.34596205, 22.63730597, 11.36356592,\n",
       "        11.33138609, 11.33495092, 11.35579705, 22.64250493, 11.38686013,\n",
       "        11.32962489, 11.36890197, 11.37291503, 22.67156696, 22.67401195,\n",
       "        11.38484716, 11.35822797, 33.97284985, 45.41427708, 22.67106795,\n",
       "        34.02565312, 22.64482689, 22.65707397, 34.022717  , 68.00197601,\n",
       "        22.65580606, 22.70528793, 11.3615272 , 11.32925892, 11.33820486,\n",
       "        22.64396715, 22.69211388, 22.6872921 , 22.67231703, 34.10229492,\n",
       "        68.05309391, 22.67107701, 22.66240907, 11.36194205, 11.37412786,\n",
       "        11.31881309, 22.64017701, 11.33584309, 11.32901001, 11.33697486,\n",
       "        11.33207202, 22.63723612, 11.342453  , 11.33014798, 11.32960987,\n",
       "        11.33198118, 22.64551187, 11.35397291, 11.33576703, 11.32829618,\n",
       "        11.34128094, 22.63410807, 11.36021185, 11.33745599, 11.33087111,\n",
       "        11.33356094, 22.64530897, 11.32239294, 11.39332509, 11.35570192,\n",
       "        11.33735704, 22.64316511, 11.35323501, 11.33373094, 11.337569  ,\n",
       "        11.32672191, 34.05472016, 11.33670282, 11.3326962 , 11.336658  ,\n",
       "        22.63883686, 11.33332705, 11.35944986, 11.3426981 , 11.39490604,\n",
       "        33.98400307, 11.33337283, 11.36013198, 11.35290313, 22.65214491,\n",
       "        11.37856913, 11.33025098, 11.34414601, 11.368541  ]])"
      ]
     },
     "execution_count": 45,
     "metadata": {},
     "output_type": "execute_result"
    }
   ],
   "source": [
    "intervals"
   ]
  },
  {
   "cell_type": "code",
   "execution_count": null,
   "metadata": {},
   "outputs": [],
   "source": []
  }
 ],
 "metadata": {
  "kernelspec": {
   "display_name": "base",
   "language": "python",
   "name": "python3"
  },
  "language_info": {
   "codemirror_mode": {
    "name": "ipython",
    "version": 3
   },
   "file_extension": ".py",
   "mimetype": "text/x-python",
   "name": "python",
   "nbconvert_exporter": "python",
   "pygments_lexer": "ipython3",
   "version": "3.8.8"
  }
 },
 "nbformat": 4,
 "nbformat_minor": 2
}
