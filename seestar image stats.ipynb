{
 "cells": [
  {
   "cell_type": "code",
   "execution_count": 14,
   "metadata": {},
   "outputs": [],
   "source": [
    "# Analyse timestamps of fits files from a Seestar S50 session to show dropped frame stats"
   ]
  },
  {
   "cell_type": "code",
   "execution_count": 81,
   "metadata": {},
   "outputs": [],
   "source": [
    "# config\n",
    "\n",
    "EXP_TIME = 10.0 # exposure time\n",
    "PROC_TIME = 1.0  #overhead for stacking\n",
    "CYCLE_TIME = EXP_TIME + PROC_TIME  # approx elapsed time for a single imaging cycle of 10s\n",
    "\n",
    "TICK_INTERVAL = 15 * 60  # tick spacing in timeline plot (in s)"
   ]
  },
  {
   "cell_type": "code",
   "execution_count": 16,
   "metadata": {},
   "outputs": [],
   "source": [
    "# file handling\n",
    "\n",
    "from astropy.io import fits\n",
    "from pathlib import Path\n",
    "from datetime import datetime as dt\n",
    "import numpy as np\n",
    "\n",
    "def read_timestamp(file):\n",
    "    with fits.open(file) as hdul:\n",
    "        hdr = hdul[0].header\n",
    "        return hdr['DATE-OBS']\n",
    "    \n",
    "def read_all_timestamps(dir):\n",
    "    fit_path = Path(dir)\n",
    "    return [read_timestamp(p) for p in fit_path.glob('*.fit')]\n",
    "\n"
   ]
  },
  {
   "cell_type": "code",
   "execution_count": 42,
   "metadata": {},
   "outputs": [],
   "source": [
    "# analysis\n",
    "\n",
    "def timestamps_to_floats(ts, normalise = False):\n",
    "    floats =  [dt.fromisoformat(t).timestamp() for t in ts]\n",
    "    if normalise: \n",
    "        start = floats[0]\n",
    "        floats = [f - start for f in floats]\n",
    "    # return results as numpy array for further analysis\n",
    "    return np.round(np.array(floats))\n",
    "\n",
    "def timestamp_gaps(ts):\n",
    "    return np.round(np.diff(ts/CYCLE_TIME)) - 1\n",
    "\n"
   ]
  },
  {
   "cell_type": "code",
   "execution_count": 131,
   "metadata": {},
   "outputs": [],
   "source": [
    "# Basic stats for this run\n",
    "import sys\n",
    "from datetime import timedelta\n",
    "\n",
    "def print_stats(f = sys.stdout):\n",
    "    nframes = len(timestamps)\n",
    "    skip_frames = int(sum(gaps))\n",
    "    frame_slots = skip_frames + nframes\n",
    "    total_time = dt.fromtimestamp(float_timestamps[-1] - float_timestamps[0]).strftime('%H:%M:%S')\n",
    "    integration_time = timedelta(seconds = nframes * EXP_TIME)\n",
    "\n",
    "    print('Total number of image slots: ', frame_slots, file = f)\n",
    "    print('Total number of image frames: ', nframes, file = f)\n",
    "    print('Skipped frames: ', skip_frames, file = f)\n",
    "    print(f'Capture efficiency: {nframes / frame_slots:.1%}', file = f)\n",
    "    print('Longest run of dropped frames: ', int(max(counter)), file = f)\n",
    "    print('Total elapsed imaging time: ', total_time, file = f)\n",
    "    print('Total integration time: ', integration_time, file = f)\n",
    "\n"
   ]
  },
  {
   "cell_type": "code",
   "execution_count": 125,
   "metadata": {},
   "outputs": [],
   "source": [
    "# directory containing fits lights\n",
    "\n",
    "FITS_DIR = 'C:/SeeStar_images/NGC 6992/2023-11-28/NGC 6992-sub/'"
   ]
  },
  {
   "cell_type": "code",
   "execution_count": 126,
   "metadata": {},
   "outputs": [],
   "source": [
    "timestamps = read_all_timestamps(FITS_DIR)\n",
    "\n",
    "float_timestamps = timestamps_to_floats(timestamps)\n",
    "\n",
    "gaps = timestamp_gaps(float_timestamps)"
   ]
  },
  {
   "cell_type": "code",
   "execution_count": 127,
   "metadata": {},
   "outputs": [
    {
     "data": {
      "text/plain": [
       "Counter({0.0: 93, 1.0: 30, 3.0: 2, 5.0: 1, 11.0: 1, 4.0: 1})"
      ]
     },
     "execution_count": 127,
     "metadata": {},
     "output_type": "execute_result"
    }
   ],
   "source": [
    "import collections\n",
    "\n",
    "counter = collections.Counter(gaps)\n",
    "counter"
   ]
  },
  {
   "cell_type": "code",
   "execution_count": 132,
   "metadata": {},
   "outputs": [
    {
     "name": "stdout",
     "output_type": "stream",
     "text": [
      "Total number of image slots:  185\n",
      "Total number of image frames:  129\n",
      "Skipped frames:  56\n",
      "Capture efficiency: 69.7%\n",
      "Longest run of dropped frames:  11\n",
      "Total elapsed imaging time:  00:34:25\n",
      "Total integration time:  0:21:30\n"
     ]
    }
   ],
   "source": [
    "with open(FITS_DIR + 'frame_stats.txt', 'w') as f:\n",
    "    print_stats(f)\n",
    "\n",
    "print_stats()"
   ]
  },
  {
   "cell_type": "code",
   "execution_count": 103,
   "metadata": {},
   "outputs": [
    {
     "data": {
      "image/png": "[encoded data removed]",
      "text/plain": [
       "<Figure size 432x288 with 1 Axes>"
      ]
     },
     "metadata": {
      "needs_background": "light"
     },
     "output_type": "display_data"
    }
   ],
   "source": [
    "import matplotlib.pyplot as plt\n",
    "from matplotlib.ticker import FormatStrFormatter\n",
    "from matplotlib.ticker import MaxNLocator\n",
    "\n",
    "\n",
    "# gap plot\n",
    "indices = list(range(len(gaps)))\n",
    "plt.bar(indices, gaps, 1)\n",
    "ax = plt.gca()\n",
    "ax.yaxis.set_major_formatter(FormatStrFormatter('%.0d'))\n",
    "ax.yaxis.set_major_locator(MaxNLocator(integer=True))\n",
    "plt.xlabel('Successful frame count')\n",
    "plt.ylabel('Dropped frames')\n",
    "plt.savefig(FITS_DIR + 'frame_gaps.png', format = 'png')\n",
    "plt.show()\n"
   ]
  },
  {
   "cell_type": "code",
   "execution_count": 104,
   "metadata": {},
   "outputs": [
    {
     "data": {
      "image/png": "[encoded data removed]",
      "text/plain": [
       "<Figure size 432x288 with 1 Axes>"
      ]
     },
     "metadata": {
      "needs_background": "light"
     },
     "output_type": "display_data"
    }
   ],
   "source": [
    "# linear plot\n",
    "\n",
    "import matplotlib.ticker as ticker \n",
    "\n",
    "def label_format(ts, pos):\n",
    "    return dt.fromtimestamp(ts).strftime('%H:%M')\n",
    "\n",
    "\n",
    "plt.bar(float_timestamps, 1, CYCLE_TIME)\n",
    "ax = plt.gca()\n",
    "ax.get_yaxis().set_visible(False)\n",
    "ax.xaxis.set_major_locator(ticker.MultipleLocator(TICK_INTERVAL))\n",
    "ax.xaxis.set_major_formatter(ticker.FuncFormatter(label_format))\n",
    "plt.xlabel('Frame time')\n",
    "plt.savefig(FITS_DIR + 'frame_timings.png', format = 'png')\n",
    "plt.show()\n"
   ]
  },
  {
   "cell_type": "code",
   "execution_count": null,
   "metadata": {},
   "outputs": [],
   "source": []
  }
 ],
 "metadata": {
  "kernelspec": {
   "display_name": "base",
   "language": "python",
   "name": "python3"
  },
  "language_info": {
   "codemirror_mode": {
    "name": "ipython",
    "version": 3
   },
   "file_extension": ".py",
   "mimetype": "text/x-python",
   "name": "python",
   "nbconvert_exporter": "python",
   "pygments_lexer": "ipython3",
   "version": "3.8.8"
  }
 },
 "nbformat": 4,
 "nbformat_minor": 2
}
