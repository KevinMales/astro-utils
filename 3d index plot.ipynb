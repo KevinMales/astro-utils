{
 "cells": [
  {
   "cell_type": "markdown",
   "id": "ee26db85",
   "metadata": {},
   "source": [
    "# Interactive 3D plot of DSO targets\n",
    "Copyright Kevin Males 2022\n",
    "\n",
    "This notebook requires Pandas, plotly and astropy. The easiest way to ensure they are all available is to use the Anaconda Python distribution."
   ]
  },
  {
   "cell_type": "code",
   "execution_count": null,
   "id": "32132b04",
   "metadata": {},
   "outputs": [],
   "source": [
    "import pandas as pd"
   ]
  },
  {
   "cell_type": "code",
   "execution_count": null,
   "id": "afe3829e",
   "metadata": {},
   "outputs": [],
   "source": [
    "df = pd.read_csv('C:\\APT_Images\\Processed images\\Observing & Processing information.csv')"
   ]
  },
  {
   "cell_type": "code",
   "execution_count": null,
   "id": "870908a2",
   "metadata": {},
   "outputs": [],
   "source": [
    "df"
   ]
  },
  {
   "cell_type": "code",
   "execution_count": null,
   "id": "9f0b2c74",
   "metadata": {},
   "outputs": [],
   "source": [
    "df = df.dropna(subset = ['Dist (ly)'])"
   ]
  },
  {
   "cell_type": "code",
   "execution_count": null,
   "id": "c6aeef64",
   "metadata": {},
   "outputs": [],
   "source": [
    "from astropy.coordinates import SkyCoord\n",
    "import math"
   ]
  },
  {
   "cell_type": "code",
   "execution_count": null,
   "id": "4a5a5c8d",
   "metadata": {},
   "outputs": [],
   "source": [
    "def xyz(row):\n",
    "    c = SkyCoord(row['RA'], row['Dec'], distance = row['Dist (ly)'])\n",
    "    return pd.Series([c.cartesian.x.value, c.cartesian.y.value, c.cartesian.z.value], index = ['x', 'y', 'z'])\n",
    "\n",
    "def xyz_log(row):\n",
    "    c = SkyCoord(row['RA'], row['Dec'], distance = math.log10(row['Dist (ly)']))\n",
    "    return pd.Series([c.cartesian.x.value, c.cartesian.y.value, c.cartesian.z.value], index = ['x', 'y', 'z'])"
   ]
  },
  {
   "cell_type": "code",
   "execution_count": null,
   "id": "f1f96a94",
   "metadata": {},
   "outputs": [],
   "source": [
    "coords_log = df.apply(xyz_log, axis = 1)\n",
    "coords_lin = df.apply(xyz, axis = 1)"
   ]
  },
  {
   "cell_type": "code",
   "execution_count": null,
   "id": "99fd3e18",
   "metadata": {},
   "outputs": [],
   "source": [
    "df_log = pd.concat([df, coords_log], axis=1)\n",
    "df_lin = pd.concat([df, coords_lin], axis=1)"
   ]
  },
  {
   "cell_type": "code",
   "execution_count": null,
   "id": "48cb441f",
   "metadata": {},
   "outputs": [],
   "source": [
    "import plotly.express as px\n",
    "import plotly.graph_objects as go"
   ]
  },
  {
   "cell_type": "code",
   "execution_count": null,
   "id": "a595caa4",
   "metadata": {},
   "outputs": [],
   "source": [
    "fig_lin = px.scatter_3d(df_lin, x='x', y='y', z='z',\n",
    "              text='Target',\n",
    "                   hover_name = 'Dist (ly)',\n",
    "                   color = 'Type',\n",
    "                   color_discrete_map = {\n",
    "                       'Star': 'yellow',\n",
    "                       'Nebula': 'green',\n",
    "                       'Cluster': 'blue',\n",
    "                       'Galaxy': 'red'\n",
    "                   })\n",
    "\n",
    "fig_lin.add_trace(go.Scatter3d(x = [0], y = [0], z = [0],\n",
    "                           mode = 'markers',\n",
    "                          marker = go.scatter3d.Marker(color = 'black'),\n",
    "                              name = 'Earth'))"
   ]
  },
  {
   "cell_type": "code",
   "execution_count": null,
   "id": "c74394fd",
   "metadata": {},
   "outputs": [],
   "source": [
    "fig_log = px.scatter_3d(df_log, x='x', y='y', z='z',\n",
    "              text='Target',\n",
    "                   hover_name = 'Dist (ly)',\n",
    "                   color = 'Type',\n",
    "                   color_discrete_map = {\n",
    "                       'Star': 'yellow',\n",
    "                       'Nebula': 'green',\n",
    "                       'Cluster': 'blue',\n",
    "                       'Galaxy': 'red'\n",
    "                   })\n",
    "\n",
    "fig_log.add_trace(go.Scatter3d(x = [0], y = [0], z = [0],\n",
    "                           mode = 'markers',\n",
    "                          marker = go.scatter3d.Marker(color = 'black'),\n",
    "                              name = 'Earth'))"
   ]
  },
  {
   "cell_type": "code",
   "execution_count": null,
   "id": "b8797bfb",
   "metadata": {},
   "outputs": [],
   "source": [
    "fig_lin.write_html('3d_index_plot_lin.html')\n",
    "fig_log.write_html('3d_index_plot_log.html')"
   ]
  },
  {
   "cell_type": "code",
   "execution_count": null,
   "id": "b6cbfaef",
   "metadata": {},
   "outputs": [],
   "source": []
  }
 ],
 "metadata": {
  "kernelspec": {
   "display_name": "Python 3",
   "language": "python",
   "name": "python3"
  },
  "language_info": {
   "codemirror_mode": {
    "name": "ipython",
    "version": 3
   },
   "file_extension": ".py",
   "mimetype": "text/x-python",
   "name": "python",
   "nbconvert_exporter": "python",
   "pygments_lexer": "ipython3",
   "version": "3.8.8"
  }
 },
 "nbformat": 4,
 "nbformat_minor": 5
}
