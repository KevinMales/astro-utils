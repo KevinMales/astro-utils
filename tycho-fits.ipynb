{
 "cells": [
  {
   "cell_type": "code",
   "execution_count": 38,
   "metadata": {},
   "outputs": [],
   "source": [
    "# Parse date taken from cr2 file header - note, this is from the camera clock\n",
    "# Taken from https://stackoverflow.com/questions/3696642/reading-a-cr2-raw-canon-image-header-using-python\n",
    "\n",
    "from struct import unpack_from\n",
    "\n",
    "def FindDateTimeOffsetFromCR2( buffer, ifd_offset ):\n",
    "    # Read the number of entries in IFD #0\n",
    "    (num_of_entries,) = unpack_from('H', buffer, ifd_offset)\n",
    "\n",
    "    # Work out where the date time is stored\n",
    "    datetime_offset = -1\n",
    "    for entry_num in range(0,num_of_entries-1):\n",
    "        (tag_id, tag_type, num_of_value, value) = unpack_from('HHLL', buffer, ifd_offset+2+entry_num*12)\n",
    "        if tag_id == 0x0132:\n",
    "            return value\n",
    "\n",
    "def get_cr2_timestamp(file):\n",
    "    with open(file, \"rb\") as f:\n",
    "            buffer = f.read(1024) # read the first 1kb of the file should be enough to find the date / time\n",
    "            datetime_offset = FindDateTimeOffsetFromCR2(buffer, 0x10)\n",
    "            return unpack_from('19s', buffer, datetime_offset)[0].decode()"
   ]
  },
  {
   "cell_type": "code",
   "execution_count": 66,
   "metadata": {},
   "outputs": [],
   "source": [
    "from astropy.io import fits\n",
    "from astropy.coordinates import SkyCoord\n",
    "from pathlib import Path\n",
    "\n",
    "# Find coords of target using CDS name lookup\n",
    "# Returns RA & DEC in degrees\n",
    "\n",
    "def object_coords(obj_name):\n",
    "    sc = SkyCoord.from_name(obj_name)\n",
    "    return sc.ra.degree, sc.dec.degree\n",
    "\n",
    "# Update headers of fits file with datetime, exposure, RA & DEC\n",
    "# Used by Tycho for platesolving and NEO lookup\n",
    "\n",
    "def update_fits_file_headers(file, dt, exp, ra, dec):\n",
    "    with fits.open(file, mode='update') as hdul:\n",
    "        hdr = hdul[0].header\n",
    "        hdr['EXPOSURE'] = exp\n",
    "        hdr['DATE-OBS'] = dt\n",
    "        hdr['RA'] = ra\n",
    "        hdr['DEC'] = dec\n",
    "\n",
    "# Update all fits files in folder\n",
    "# Datetime of image is taken from the equivalent cr2 file two folders above\n",
    "\n",
    "def update_fits_files(dir, exp, obj_name):\n",
    "    sc = SkyCoord.from_name(obj_name)\n",
    "    ra = sc.ra.degree\n",
    "    dec = sc.dec.degree\n",
    "    fit_path = Path(dir)\n",
    "    cr2_path = fit_path.parent.parent\n",
    "    for p in fit_path.glob('*.fit'):\n",
    "        cr2_name = p.with_suffix('.cr2').name\n",
    "        cr2_file = cr2_path.joinpath(cr2_name)\n",
    "        dt = get_cr2_timestamp(cr2_file)\n",
    "        update_fits_file_headers(p, dt, exp, ra, dec)\n"
   ]
  },
  {
   "cell_type": "code",
   "execution_count": 64,
   "metadata": {},
   "outputs": [],
   "source": [
    "EXP = 90.0\n",
    "OBJ = 'M97'\n",
    "DIR = 'C:/APT_Images/Camera_1/2022-03-19/M97/pipp_20231106_170337/L_M_97_0002_ISO800_90s__17C/'\n"
   ]
  },
  {
   "cell_type": "code",
   "execution_count": 67,
   "metadata": {},
   "outputs": [],
   "source": [
    "update_fits_files(DIR, EXP, OBJ)"
   ]
  },
  {
   "cell_type": "code",
   "execution_count": null,
   "metadata": {},
   "outputs": [],
   "source": []
  }
 ],
 "metadata": {
  "kernelspec": {
   "display_name": "base",
   "language": "python",
   "name": "python3"
  },
  "language_info": {
   "codemirror_mode": {
    "name": "ipython",
    "version": 3
   },
   "file_extension": ".py",
   "mimetype": "text/x-python",
   "name": "python",
   "nbconvert_exporter": "python",
   "pygments_lexer": "ipython3",
   "version": "3.8.8"
  },
  "orig_nbformat": 4
 },
 "nbformat": 4,
 "nbformat_minor": 2
}
