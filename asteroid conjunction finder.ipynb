{
 "cells": [
  {
   "cell_type": "markdown",
   "metadata": {},
   "source": [
    "## Asteroid conjunction finder"
   ]
  },
  {
   "cell_type": "markdown",
   "metadata": {},
   "source": [
    "Find close approaches between asteroid positions (obtained dynamically from MPC ephemeris service) and NGC DSO catalog (cached locally from Vizier table)"
   ]
  },
  {
   "cell_type": "code",
   "execution_count": 2,
   "metadata": {},
   "outputs": [],
   "source": [
    "# Parameters, edit to taste\n",
    "\n",
    "# Date & time for ephemeris lookup\n",
    "\n",
    "OBS_TIME = '2025-02-15 20:00:00'\n",
    "\n",
    "# coords of home location (used to calculate altitude of conjunction)\n",
    "\n",
    "OBS_LAT = 52.9\n",
    "OBS_LONG = 0.5\n",
    "\n",
    "# minimum altitude for conjunctions (anything below is filtered out for visibility)\n",
    "MIN_VISIBLE_ALT = 10 # degrees\n",
    "\n",
    "# mimimum angular size of DSO to be visible in image\n",
    "DSO_MIN_SIZE = 2  # 5% of Seestar S50 FoV width\n",
    "\n",
    "# maximum magnitude for DSO to be visible \n",
    "DSO_MAX_MAG = 15  # approx limiting magnitude for Seestar S50\n",
    "\n",
    "# Max angular distance between asteroid and DSO\n",
    "MAX_SEPARATION_ARCMIN = 40 # approx frame width in Seestar S50\n",
    "\n",
    "# arcsec per pixel for scope (used to convert proper motion to px per hr\n",
    "ARCSEC_PER_PIXEL = 2.49 # seestar S50\n",
    "\n",
    "# number of asteroids to check (from list ordered by absolute magnitude)\n",
    "CHECK_ASTEROIDS = 100"
   ]
  },
  {
   "cell_type": "code",
   "execution_count": null,
   "metadata": {},
   "outputs": [],
   "source": [
    "import os\n",
    "\n",
    "if os.getenv(\"COLAB_RELEASE_TAG\"):\n",
    "  from google.colab import drive\n",
    "  drive.mount('/content/drive')\n",
    "  AST_PATH = '/content/drive/My Drive/Astronomy/asteroids with abs mag below 10.csv'\n",
    "  NGC_PATH = '/content/drive/My Drive/Astronomy/ngc_catalog.ecsv'\n",
    "  !pip install astroquery\n",
    "else:\n",
    "  AST_PATH = './asteroids with abs mag below 10.csv'\n",
    "  NGC_PATH = './ngc_catalog.ecsv'"
   ]
  },
  {
   "cell_type": "code",
   "execution_count": null,
   "metadata": {},
   "outputs": [],
   "source": [
    "# load list of asteroids to search from file (ordered by absolute magnitude)\n",
    "\n",
    "import csv\n",
    "\n",
    "with open(AST_PATH) as csvfile:\n",
    "    csv_reader = csv.reader(csvfile)\n",
    "    next(csv_reader) # skip header row\n",
    "    asteroid_names = [row[3] for _, row in zip(range(CHECK_ASTEROIDS), csv_reader)]"
   ]
  },
  {
   "cell_type": "code",
   "execution_count": null,
   "metadata": {},
   "outputs": [],
   "source": [
    "# Fetch ngc catalog from CDS vizier server\n",
    "# This code only needs to be run once to cache the table locally\n",
    "\n",
    "# from astroquery.vizier import Vizier\n",
    "\n",
    "# vizier = Vizier()\n",
    "# vizier.ROW_LIMIT = -1\n",
    "\n",
    "# ngc_tables = vizier.get_catalogs('VII/118/ngc2000')\n",
    "\n",
    "# # save ngc table locally for future reference\n",
    "\n",
    "# ngc_tables[0].write('./ngc_catalog.ecsv')\n"
   ]
  },
  {
   "cell_type": "code",
   "execution_count": null,
   "metadata": {},
   "outputs": [],
   "source": [
    "# create SkyCoord catalog of ngc DSOs for searching\n",
    "\n",
    "from astropy.io import ascii\n",
    "\n",
    "# load locally cached ngc table \n",
    "ngc_table = ascii.read(NGC_PATH)\n",
    "\n",
    "# filter table to size and magnitude limits\n",
    "\n",
    "filtered_ngc_table = ngc_table[ngc_table['size'] > DSO_MIN_SIZE]\n",
    "filtered_ngc_table = filtered_ngc_table[filtered_ngc_table['mag'] < DSO_MAX_MAG]"
   ]
  },
  {
   "cell_type": "code",
   "execution_count": 4,
   "metadata": {},
   "outputs": [],
   "source": [
    "from astropy.coordinates import SkyCoord\n",
    "import astropy.units as u\n",
    "\n",
    "ngc_catalog = SkyCoord(ra = filtered_ngc_table['RAB2000'], dec = filtered_ngc_table['DEB2000'],\n",
    "                       unit = (u.hourangle, u.deg))\n",
    "\n"
   ]
  },
  {
   "cell_type": "code",
   "execution_count": 5,
   "metadata": {},
   "outputs": [],
   "source": [
    "# Query MPC Horizons service for asteroid ephemeris data\n",
    "\n",
    "from astroquery.mpc import MPC\n",
    "from astropy.table import vstack\n",
    "\n",
    "ephemerides = [MPC.get_ephemeris(a, start = OBS_TIME, number = 1) for a in asteroid_names]\n",
    "ephemerides = vstack(ephemerides)\n",
    "\n",
    "# create SkyCoord catalog for search\n",
    "ephemerides_cat = SkyCoord(ra = ephemerides['RA'], dec = ephemerides['Dec'], unit = u.deg)"
   ]
  },
  {
   "cell_type": "code",
   "execution_count": null,
   "metadata": {},
   "outputs": [
    {
     "name": "stdout",
     "output_type": "stream",
     "text": [
      "Predicted conjunctions for  2025-02-05 20:00:00 \n",
      "\n",
      "NGC 660, Gx, (alt=34.1, mag=10.8) <> Hygiea (alt=34.2, mag=12.0), sep=0.37 deg, pm=32.4\"(13.0px)/hr, dist=3.659)\n",
      "NGC 2355, OC, (alt=43.0, mag=10.0) <> Eurynome (alt=43.5, mag=10.9), sep=0.60 deg, pm=23.3\"(9.4px)/hr, dist=1.316)\n",
      "\n",
      "There were 1 conjunctions below the visibility threshold\n"
     ]
    },
    {
     "ename": "",
     "evalue": "",
     "output_type": "error",
     "traceback": [
      "\u001b[1;31mThe Kernel crashed while executing code in the current cell or a previous cell. \n",
      "\u001b[1;31mPlease review the code in the cell(s) to identify a possible cause of the failure. \n",
      "\u001b[1;31mClick <a href='https://aka.ms/vscodeJupyterKernelCrash'>here</a> for more info. \n",
      "\u001b[1;31mView Jupyter <a href='command:jupyter.viewOutput'>log</a> for further details."
     ]
    }
   ],
   "source": [
    "# Find sky conjunctions of asteroid positions and NGC catalog\n",
    "\n",
    "from astropy.coordinates import AltAz, EarthLocation\n",
    "\n",
    "import warnings\n",
    "warnings.filterwarnings('ignore') # block formatting warning message\n",
    "\n",
    "idx_ngc, idx_asteroid, sep2d, _ = ephemerides_cat.search_around_sky(ngc_catalog, seplimit = MAX_SEPARATION_ARCMIN * u.arcmin)\n",
    "\n",
    "home = EarthLocation(lat = OBS_LAT * u.deg, lon = OBS_LONG * u.deg)\n",
    "home_altaz = AltAz(obstime = OBS_TIME, location = home)\n",
    "\n",
    "print('Predicted conjunctions for ', OBS_TIME, '\\n')\n",
    "for ingc, ia, sep in zip(idx_ngc, idx_asteroid, sep2d):\n",
    "    ngc = filtered_ngc_table[ingc]\n",
    "    ngc_loc = ngc_catalog[ingc]\n",
    "    ephem = ephemerides[ia]\n",
    "    ephem_coords = ephemerides_cat[ia]\n",
    "    ngc_mag = filtered_ngc_table[ingc]['mag']\n",
    "    ast_mag = ephem['V']\n",
    "    dist = ephem['Delta']\n",
    "    pm = ephem['Proper motion'] # arcsec per hour\n",
    "    pm_px = pm/ARCSEC_PER_PIXEL  #px per hour\n",
    "    altaz_ast =  ephem_coords.transform_to(home_altaz).alt.degree\n",
    "    altaz_ngc = ngc_loc.transform_to(home_altaz).alt.degree\n",
    "    skip_count = 0\n",
    "    name = ngc['Name']\n",
    "    if name[0] != 'I':\n",
    "        name = 'NGC ' + name\n",
    "    if altaz_ast < MIN_VISIBLE_ALT or altaz_ngc < MIN_VISIBLE_ALT:\n",
    "        skip_count += 1\n",
    "        continue\n",
    "    print(f\"{name}, {ngc['Type']}, (alt={altaz_ngc:.1f}, mag={ngc_mag:.1f}) <> {asteroid_names[ia]} (alt={altaz_ast:.1f}, mag={ast_mag:.1f}), sep={sep:.2f}, pm={pm:.1f}\\\"({pm_px:.1f}px)/hr, dist={dist})\")\n",
    "print('\\nThere were', skip_count, 'conjunctions below the visibility threshold')\n",
    "    "
   ]
  }
 ],
 "metadata": {
  "kernelspec": {
   "display_name": "base",
   "language": "python",
   "name": "python3"
  },
  "language_info": {
   "codemirror_mode": {
    "name": "ipython",
    "version": 3
   },
   "file_extension": ".py",
   "mimetype": "text/x-python",
   "name": "python",
   "nbconvert_exporter": "python",
   "pygments_lexer": "ipython3",
   "version": "3.8.8"
  }
 },
 "nbformat": 4,
 "nbformat_minor": 2
}
