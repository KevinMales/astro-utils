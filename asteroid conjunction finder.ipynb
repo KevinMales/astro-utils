{
 "cells": [
  {
   "cell_type": "markdown",
   "metadata": {},
   "source": [
    "## Asteroid conjunction finder"
   ]
  },
  {
   "cell_type": "markdown",
   "metadata": {},
   "source": [
    "Find close approaches between asteroid positions (obtained dynamically from MPC ephemeris service) and NGC DSO catalog (cached locally from Vizier table)"
   ]
  },
  {
   "cell_type": "code",
   "execution_count": 81,
   "metadata": {},
   "outputs": [],
   "source": [
    "# Parameters, edit to taste\n",
    "\n",
    "# Date & time for ephemeris lookup\n",
    "\n",
    "OBS_TIME = '2025-01-13 20:00:00'\n",
    "\n",
    "# coords of home location (used to calculate altitude of conjunction)\n",
    "\n",
    "OBS_LAT = 52.9\n",
    "OBS_LONG = 0.5\n",
    "\n",
    "# mimimum angular size of DSO to be visible in image\n",
    "DSO_MIN_SIZE = 2  # 5% of Seestar S50 FoV width\n",
    "\n",
    "# maximum magnitude for DSO to be visible \n",
    "DSO_MAX_MAG = 15  # approx limiting magnitude for Seestar S50\n",
    "\n",
    "# Max angular distance between asteroid and DSO\n",
    "MAX_SEPARATION_ARCMIN = 40 # approx frame width in Seestar S50"
   ]
  },
  {
   "cell_type": "code",
   "execution_count": 63,
   "metadata": {},
   "outputs": [],
   "source": [
    "# list of largest asteroids to search\n",
    "\n",
    "ASTEROIDS = ['Ceres',\n",
    "                      '4 Vesta',\n",
    "                       '2 Pallas',\n",
    "                       '10 Hygiea',\n",
    "                       '704 Interamnia',\n",
    "                       '52 Europa',\n",
    "                       '511 Davida',\n",
    "                       '87 Sylvia',\n",
    "                       '15 Eunomia',\n",
    "                       '31 Euphrosyne',\n",
    "                       '65 Cybele',\n",
    "                       '624 Hektor',\n",
    "                       '3 Juno',\n",
    "                       '451 Patientia',\n",
    "                       '107 Camilla',\n",
    "                       '324 Bamberga',\n",
    "                       '16 Psyche',\n",
    "                       '88 Thisbe',\n",
    "                       '48 Doris',\n",
    "                       '19 Fortuna',\n",
    "                       '121 Hermione',\n",
    "                       '24 Themis',\n",
    "                       '94 Aurora',\n",
    "                       '29 Amphitrite',\n",
    "                       '13 Egeria',\n",
    "                       '130 Elektra',\n",
    "                       '7 Iris',\n",
    "                       '6 Hebe',\n",
    "                       '375 Ursula',\n",
    "                       '702 Alauda',\n",
    "                       '45 Eugenia',\n",
    "                       '41 Daphne',\n",
    "                       '423 Diotima',\n",
    "                       '259 Aletheia',\n",
    "                       '372 Palma',\n",
    "                       '9 Metis',\n",
    "                       '532 Herculina',\n",
    "                       '354 Eleonora',\n",
    "                       '128 Nemesis'\n",
    "]"
   ]
  },
  {
   "cell_type": "code",
   "execution_count": null,
   "metadata": {},
   "outputs": [],
   "source": [
    "# Fetch ngc catalog from CDS vizier server\n",
    "# This code only needs to be run once to cache the table locally\n",
    "\n",
    "# from astroquery.vizier import Vizier\n",
    "\n",
    "# vizier = Vizier()\n",
    "# vizier.ROW_LIMIT = -1\n",
    "\n",
    "# ngc_tables = vizier.get_catalogs('VII/118/ngc2000')\n",
    "\n",
    "# # save ngc table locally for future reference\n",
    "\n",
    "# ngc_tables[0].write('./ngc_catalog.ecsv')\n"
   ]
  },
  {
   "cell_type": "code",
   "execution_count": null,
   "metadata": {},
   "outputs": [],
   "source": [
    "# create SkyCoord catalog of ngc DSOs for searching\n",
    "\n",
    "from astropy.io import ascii\n",
    "\n",
    "# load locally cached ngc table \n",
    "ngc_table = ascii.read('./ngc_catalog.ecsv')\n",
    "\n",
    "# filter table to size and magnitude limits\n",
    "\n",
    "filtered_ngc_table = ngc_table[ngc_table['size'] > DSO_MIN_SIZE]\n",
    "filtered_ngc_table = filtered_ngc_table[filtered_ngc_table['mag'] < DSO_MAX_MAG]"
   ]
  },
  {
   "cell_type": "code",
   "execution_count": 38,
   "metadata": {},
   "outputs": [],
   "source": [
    "from astropy.coordinates import SkyCoord\n",
    "import astropy.units as u\n",
    "\n",
    "ngc_catalog = SkyCoord(ra = filtered_ngc_table['RAB2000'], dec = filtered_ngc_table['DEB2000'],\n",
    "                       unit = (u.hourangle, u.deg))\n",
    "\n"
   ]
  },
  {
   "cell_type": "code",
   "execution_count": null,
   "metadata": {},
   "outputs": [],
   "source": [
    "# Query MPC Horizons service for asteroid ephemeris data\n",
    "\n",
    "from astroquery.mpc import MPC\n",
    "from astropy.table import vstack\n",
    "\n",
    "ephemerides = [MPC.get_ephemeris(a, start = OBS_TIME, number = 1) for a in ASTEROIDS]\n",
    "ephemerides = vstack(ephemerides)\n",
    "\n",
    "# create SkyCoord catalog for search\n",
    "ephemerides_cat = SkyCoord(ra = ephemerides['RA'], dec = ephemerides['Dec'], unit = u.deg)"
   ]
  },
  {
   "cell_type": "code",
   "execution_count": 92,
   "metadata": {},
   "outputs": [
    {
     "name": "stdout",
     "output_type": "stream",
     "text": [
      "Predicted conjunctions for  2025-01-13 20:00:00\n",
      "NGC 428, Gx, (alt=30.4) <> 107 Camilla (alt=30.2), sep = 0.49 deg\n",
      "NGC 514, Gx, (alt=42.4) <> 10 Hygiea (alt=42.5), sep = 0.37 deg\n",
      "NGC 936, Gx, (alt=34.3) <> 511 Davida (alt=34.8), sep = 0.64 deg\n",
      "NGC 941, Gx, (alt=34.3) <> 511 Davida (alt=34.8), sep = 0.53 deg\n",
      "NGC 955, Gx, (alt=34.4) <> 511 Davida (alt=34.8), sep = 0.60 deg\n",
      "NGC I 443, Nb, (alt=47.0) <> 88 Thisbe (alt=47.3), sep = 0.35 deg\n",
      "NGC 5705, Gx, (alt=-36.7) <> 451 Patientia (alt=-37.1), sep = 0.43 deg\n"
     ]
    }
   ],
   "source": [
    "# Find sky conjunctions of asteroid positions and NGC catalog\n",
    "\n",
    "from astropy.coordinates import AltAz, EarthLocation\n",
    "\n",
    "idx_ngc, idx_asteroid, sep2d, _ = ephemerides_cat.search_around_sky(ngc_catalog, seplimit = MAX_SEPARATION_ARCMIN * u.arcmin)\n",
    "\n",
    "home = EarthLocation(lat = OBS_LAT * u.deg, lon = OBS_LONG * u.deg)\n",
    "home_altaz = AltAz(obstime = OBS_TIME, location = home)\n",
    "\n",
    "print('Predicted conjunctions for ', OBS_TIME)\n",
    "for ingc, ia, sep in zip(idx_ngc, idx_asteroid, sep2d):\n",
    "    ngc = filtered_ngc_table[ingc]\n",
    "    ngc_loc = ngc_catalog[ingc]\n",
    "    ephem = ephemerides_cat[ia]\n",
    "    altaz_ast =  ephem.transform_to(home_altaz)\n",
    "    altaz_ngc = ngc_loc.transform_to(home_altaz)\n",
    "    print(f\"NGC {ngc['Name']}, {ngc['Type']}, (alt={altaz_ngc.alt.degree:.1f}) <> {ASTEROIDS[ia]} (alt={altaz_ast.alt.degree:.1f}), sep = {sep:.2f}\")\n",
    "    "
   ]
  }
 ],
 "metadata": {
  "kernelspec": {
   "display_name": "base",
   "language": "python",
   "name": "python3"
  },
  "language_info": {
   "codemirror_mode": {
    "name": "ipython",
    "version": 3
   },
   "file_extension": ".py",
   "mimetype": "text/x-python",
   "name": "python",
   "nbconvert_exporter": "python",
   "pygments_lexer": "ipython3",
   "version": "3.8.8"
  }
 },
 "nbformat": 4,
 "nbformat_minor": 2
}
