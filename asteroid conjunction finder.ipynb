{
 "cells": [
  {
   "cell_type": "markdown",
   "metadata": {},
   "source": [
    "## Asteroid conjunction finder"
   ]
  },
  {
   "cell_type": "markdown",
   "metadata": {},
   "source": [
    "Find close approaches between asteroid positions (obtained dynamically from MPC ephemeris service) and NGC DSO catalog (cached locally from Vizier table)"
   ]
  },
  {
   "cell_type": "code",
   "execution_count": 8,
   "metadata": {},
   "outputs": [],
   "source": [
    "# Parameters, edit to taste\n",
    "\n",
    "# Date & time for ephemeris lookup\n",
    "\n",
    "OBS_TIME = '2025-04-01 20:00:00'\n",
    "\n",
    "# coords of home location (used to calculate altitude of conjunction)\n",
    "\n",
    "OBS_LAT = 52.9\n",
    "OBS_LONG = 0.5\n",
    "\n",
    "# minimum altitude for conjunctions (anything below is filtered out for visibility)\n",
    "MIN_VISIBLE_ALT = 10 # degrees\n",
    "\n",
    "# mimimum angular size of DSO to be visible in image\n",
    "DSO_MIN_SIZE = 2  # 5% of Seestar S50 FoV width\n",
    "\n",
    "# maximum magnitude for DSO to be visible \n",
    "DSO_MAX_MAG = 15  # approx limiting magnitude for Seestar S50\n",
    "\n",
    "# Max angular distance between asteroid and DSO\n",
    "MAX_SEPARATION_ARCMIN = 40 # approx frame width in Seestar S50\n",
    "\n",
    "# arcsec per pixel for scope (used to convert proper motion to px per hr\n",
    "ARCSEC_PER_PIXEL = 2.49 # seestar S50\n",
    "\n",
    "# number of asteroids to check (from list ordered by absolute magnitude)\n",
    "CHECK_ASTEROIDS = 100"
   ]
  },
  {
   "cell_type": "code",
   "execution_count": 2,
   "metadata": {},
   "outputs": [],
   "source": [
    "import os\n",
    "\n",
    "if os.getenv(\"COLAB_RELEASE_TAG\"):\n",
    "  from google.colab import drive\n",
    "  drive.mount('/content/drive')\n",
    "  AST_PATH = '/content/drive/My Drive/Astronomy/asteroids with abs mag below 10.csv'\n",
    "  NGC_PATH = '/content/drive/My Drive/Astronomy/ngc_catalog.ecsv'\n",
    "  !pip install astroquery\n",
    "else:\n",
    "  AST_PATH = './asteroids with abs mag below 10.csv'\n",
    "  NGC_PATH = './ngc_catalog.ecsv'"
   ]
  },
  {
   "cell_type": "code",
   "execution_count": 3,
   "metadata": {},
   "outputs": [],
   "source": [
    "# load list of asteroids to search from file (ordered by absolute magnitude)\n",
    "\n",
    "import csv\n",
    "\n",
    "with open(AST_PATH) as csvfile:\n",
    "    csv_reader = csv.reader(csvfile)\n",
    "    next(csv_reader) # skip header row\n",
    "    asteroid_names = [row[3] for _, row in zip(range(CHECK_ASTEROIDS), csv_reader)]"
   ]
  },
  {
   "cell_type": "code",
   "execution_count": null,
   "metadata": {},
   "outputs": [],
   "source": [
    "# Fetch ngc catalog from CDS vizier server\n",
    "# This code only needs to be run once to cache the table locally\n",
    "\n",
    "# from astroquery.vizier import Vizier\n",
    "\n",
    "# vizier = Vizier()\n",
    "# vizier.ROW_LIMIT = -1\n",
    "\n",
    "# ngc_tables = vizier.get_catalogs('VII/118/ngc2000')\n",
    "\n",
    "# # save ngc table locally for future reference\n",
    "\n",
    "# ngc_tables[0].write('./ngc_catalog.ecsv')\n"
   ]
  },
  {
   "cell_type": "code",
   "execution_count": 4,
   "metadata": {},
   "outputs": [],
   "source": [
    "# create SkyCoord catalog of ngc DSOs for searching\n",
    "\n",
    "from astropy.io import ascii\n",
    "\n",
    "# load locally cached ngc table \n",
    "ngc_table = ascii.read(NGC_PATH)\n",
    "\n",
    "# filter table to size and magnitude limits\n",
    "\n",
    "filtered_ngc_table = ngc_table[ngc_table['size'] > DSO_MIN_SIZE]\n",
    "filtered_ngc_table = filtered_ngc_table[filtered_ngc_table['mag'] < DSO_MAX_MAG]"
   ]
  },
  {
   "cell_type": "code",
   "execution_count": 5,
   "metadata": {},
   "outputs": [],
   "source": [
    "from astropy.coordinates import SkyCoord\n",
    "import astropy.units as u\n",
    "\n",
    "ngc_catalog = SkyCoord(ra = filtered_ngc_table['RAB2000'], dec = filtered_ngc_table['DEB2000'],\n",
    "                       unit = (u.hourangle, u.deg))\n",
    "\n"
   ]
  },
  {
   "cell_type": "code",
   "execution_count": 9,
   "metadata": {},
   "outputs": [],
   "source": [
    "# Query MPC Horizons service for asteroid ephemeris data\n",
    "\n",
    "from astroquery.mpc import MPC\n",
    "from astropy.table import vstack\n",
    "\n",
    "ephemerides = [MPC.get_ephemeris(a, start = OBS_TIME, number = 1) for a in asteroid_names]\n",
    "ephemerides = vstack(ephemerides)\n",
    "\n",
    "# create SkyCoord catalog for search\n",
    "ephemerides_cat = SkyCoord(ra = ephemerides['RA'], dec = ephemerides['Dec'], unit = u.deg)"
   ]
  },
  {
   "cell_type": "code",
   "execution_count": null,
   "metadata": {},
   "outputs": [
    {
     "name": "stdout",
     "output_type": "stream",
     "text": [
      "Predicted conjunctions for  2025-04-01 20:00:00 \n",
      "\n",
      "NGC 3185, Gx, (alt=53.7, mag=12.2) <> Gallia (alt=53.8, mag=12.5), sep=0.59 deg, pm=18.0\"(7.2px)/hr, dist=2.21)\n",
      "NGC 3187, Gx, (alt=53.9, mag=13.1) <> Gallia (alt=53.8, mag=12.5), sep=0.48 deg, pm=18.0\"(7.2px)/hr, dist=2.21)\n",
      "NGC 3190, Gx, (alt=53.8, mag=11.0) <> Gallia (alt=53.8, mag=12.5), sep=0.42 deg, pm=18.0\"(7.2px)/hr, dist=2.21)\n",
      "NGC 3189, Gx, (alt=53.8, mag=12.0) <> Gallia (alt=53.8, mag=12.5), sep=0.40 deg, pm=18.0\"(7.2px)/hr, dist=2.21)\n",
      "NGC 3193, Gx, (alt=53.9, mag=10.9) <> Gallia (alt=53.8, mag=12.5), sep=0.34 deg, pm=18.0\"(7.2px)/hr, dist=2.21)\n",
      "NGC 3659, Gx, (alt=42.9, mag=13.0) <> Undina (alt=42.7, mag=12.1), sep=0.13 deg, pm=22.8\"(9.2px)/hr, dist=2.604)\n",
      "NGC 4334, Gx, (alt=26.3, mag=14.0) <> Melpomene (alt=26.7, mag=10.3), sep=0.49 deg, pm=38.2\"(15.3px)/hr, dist=1.796)\n",
      "\n",
      "There were 1 conjunctions below the visibility threshold\n"
     ]
    }
   ],
   "source": [
    "# Find sky conjunctions of asteroid positions and NGC catalog\n",
    "\n",
    "from astropy.coordinates import AltAz, EarthLocation\n",
    "\n",
    "import warnings\n",
    "warnings.filterwarnings('ignore') # block formatting warning message\n",
    "\n",
    "home = EarthLocation(lat = OBS_LAT * u.deg, lon = OBS_LONG * u.deg)\n",
    "home_altaz = AltAz(obstime = OBS_TIME, location = home)\n",
    "\n",
    "idx_ngc, idx_asteroid, sep2d, _ = ephemerides_cat.search_around_sky(ngc_catalog, seplimit = MAX_SEPARATION_ARCMIN * u.arcmin)\n",
    "\n",
    "print('Predicted NGC-asteroid conjunctions for ', OBS_TIME, '\\n')\n",
    "for ingc, ia, sep in zip(idx_ngc, idx_asteroid, sep2d):\n",
    "    ngc = filtered_ngc_table[ingc]\n",
    "    ngc_loc = ngc_catalog[ingc]\n",
    "    ephem = ephemerides[ia]\n",
    "    ephem_coords = ephemerides_cat[ia]\n",
    "    ngc_mag = filtered_ngc_table[ingc]['mag']\n",
    "    ast_mag = ephem['V']\n",
    "    dist = ephem['Delta']\n",
    "    pm = ephem['Proper motion'] # arcsec per hour\n",
    "    pm_px = pm/ARCSEC_PER_PIXEL  #px per hour\n",
    "    altaz_ast =  ephem_coords.transform_to(home_altaz).alt.degree\n",
    "    altaz_ngc = ngc_loc.transform_to(home_altaz).alt.degree\n",
    "    skip_count = 0\n",
    "    name = ngc['Name']\n",
    "    if name[0] != 'I':\n",
    "        name = 'NGC ' + name\n",
    "    if altaz_ast < MIN_VISIBLE_ALT or altaz_ngc < MIN_VISIBLE_ALT:\n",
    "        skip_count += 1\n",
    "        continue\n",
    "    print(f\"{name}, {ngc['Type']}, (alt={altaz_ngc:.1f}, mag={ngc_mag:.1f}) <> {asteroid_names[ia]} (alt={altaz_ast:.1f}, mag={ast_mag:.1f}), sep={sep:.2f}, pm={pm:.1f}\\\"({pm_px:.1f}px)/hr, dist={dist})\")\n",
    "print('\\nThere were', skip_count, 'conjunctions below the visibility threshold')\n",
    "    "
   ]
  },
  {
   "cell_type": "code",
   "execution_count": 19,
   "metadata": {},
   "outputs": [
    {
     "name": "stdout",
     "output_type": "stream",
     "text": [
      "Predicted asteroid-asteroid conjunctions for  2025-04-01 20:00:00 \n",
      "\n",
      "Herculina (alt=-55.8, mag=11.6), pm=46.3\"(18.6px)/hr, dist=3.146) <> Euterpe (alt=-54.8, mag=12.6), sep=1.90 deg, pm=50.4\"(20.2px)/hr, dist=3.055)\n",
      "Philomela (alt=-1.1, mag=12.7), pm=54.9\"(22.1px)/hr, dist=4.073) <> Eugenia (alt=-2.3, mag=13.5), sep=1.31 deg, pm=57.9\"(23.3px)/hr, dist=3.87)\n",
      "Cybele (alt=53.6, mag=13.2), pm=14.5\"(5.8px)/hr, dist=3.433) <> Aquitania (alt=54.8, mag=13.5), sep=1.26 deg, pm=16.1\"(6.5px)/hr, dist=3.058)\n",
      "Euterpe (alt=-54.8, mag=12.6), pm=50.4\"(20.2px)/hr, dist=3.055) <> Angelina (alt=-54.0, mag=13.7), sep=1.79 deg, pm=45.3\"(18.2px)/hr, dist=3.397)\n",
      "Hermione (alt=9.0, mag=13.0), pm=25.9\"(10.4px)/hr, dist=2.9) <> Nemesis (alt=7.2, mag=12.2), sep=1.89 deg, pm=31.1\"(12.5px)/hr, dist=2.121)\n",
      "Proserpina (alt=49.9, mag=13.0), pm=37.8\"(15.2px)/hr, dist=2.834) <> Sirona (alt=50.2, mag=12.8), sep=0.98 deg, pm=46.2\"(18.6px)/hr, dist=2.462)\n",
      "Aquitania (alt=54.8, mag=13.5), pm=16.1\"(6.5px)/hr, dist=3.058) <> Cybele (alt=53.6, mag=13.2), sep=1.26 deg, pm=14.5\"(5.8px)/hr, dist=3.433)\n",
      "Nemesis (alt=7.2, mag=12.2), pm=31.1\"(12.5px)/hr, dist=2.121) <> Hermione (alt=9.0, mag=13.0), sep=1.89 deg, pm=25.9\"(10.4px)/hr, dist=2.9)\n",
      "Eugenia (alt=-2.3, mag=13.5), pm=57.9\"(23.3px)/hr, dist=3.87) <> Philomela (alt=-1.1, mag=12.7), sep=1.31 deg, pm=54.9\"(22.1px)/hr, dist=4.073)\n",
      "Angelina (alt=-54.0, mag=13.7), pm=45.3\"(18.2px)/hr, dist=3.397) <> Euterpe (alt=-54.8, mag=12.6), sep=1.79 deg, pm=50.4\"(20.2px)/hr, dist=3.055)\n",
      "Sirona (alt=50.2, mag=12.8), pm=46.2\"(18.6px)/hr, dist=2.462) <> Proserpina (alt=49.9, mag=13.0), sep=0.98 deg, pm=37.8\"(15.2px)/hr, dist=2.834)\n"
     ]
    }
   ],
   "source": [
    "# predict conjunctions between asteroids\n",
    "# self match on ephemerides catalog\n",
    "\n",
    "from astropy.coordinates import match_coordinates_sky\n",
    "\n",
    "idx_asteroid, sep2d, _ = match_coordinates_sky(ephemerides_cat, ephemerides_cat, nthneighbor=2)\n",
    "\n",
    "print('Predicted asteroid-asteroid conjunctions for ', OBS_TIME, '\\n')\n",
    "for ia1, (ia2, sep) in enumerate(zip(idx_asteroid, sep2d)):\n",
    "    if sep > MAX_SEPARATION_ARCMIN * u.arcmin:\n",
    "        continue\n",
    "    ephem_ast1 = ephemerides[ia1]\n",
    "    ephem_coords_ast1 = ephemerides_cat[ia1]\n",
    "    ephem_ast2 = ephemerides[ia2]\n",
    "    ephem_coords_ast2 = ephemerides_cat[ia2]\n",
    "    mag1 = ephem_ast1['V']\n",
    "    dist1 = ephem_ast1['Delta']\n",
    "    mag2 = ephem_ast2['V']\n",
    "    dist2 = ephem_ast2['Delta']\n",
    "    pm1 = ephem_ast1['Proper motion'] # arcsec per hour\n",
    "    pm_px1 = pm1/ARCSEC_PER_PIXEL  #px per hour\n",
    "    pm2 = ephem_ast2['Proper motion'] # arcsec per hour\n",
    "    pm_px2 = pm2/ARCSEC_PER_PIXEL  #px per hour\n",
    "    altaz1 =  ephem_coords_ast1.transform_to(home_altaz).alt.degree\n",
    "    altaz2 =  ephem_coords_ast2.transform_to(home_altaz).alt.degree\n",
    "    skip_count = 0\n",
    "    print(f\"{asteroid_names[ia1]} (alt={altaz1:.1f}, mag={mag1:.1f}), pm={pm1:.1f}\\\"({pm_px1:.1f}px)/hr, dist={dist1}) <> {asteroid_names[ia2]} (alt={altaz2:.1f}, mag={mag2:.1f}), sep={sep:.2f}, pm={pm2:.1f}\\\"({pm_px2:.1f}px)/hr, dist={dist2})\")\n"
   ]
  },
  {
   "cell_type": "code",
   "execution_count": null,
   "metadata": {},
   "outputs": [],
   "source": []
  }
 ],
 "metadata": {
  "kernelspec": {
   "display_name": "base",
   "language": "python",
   "name": "python3"
  },
  "language_info": {
   "codemirror_mode": {
    "name": "ipython",
    "version": 3
   },
   "file_extension": ".py",
   "mimetype": "text/x-python",
   "name": "python",
   "nbconvert_exporter": "python",
   "pygments_lexer": "ipython3",
   "version": "3.8.8"
  }
 },
 "nbformat": 4,
 "nbformat_minor": 2
}
