{
 "cells": [
  {
   "cell_type": "markdown",
   "metadata": {},
   "source": [
    "## Asteroid conjunction finder"
   ]
  },
  {
   "cell_type": "markdown",
   "metadata": {},
   "source": [
    "Find close approaches between asteroid positions (obtained dynamically from MPC ephemeris service) and NGC DSO catalog (cached locally from Vizier table)"
   ]
  },
  {
   "cell_type": "code",
   "execution_count": 53,
   "metadata": {},
   "outputs": [],
   "source": [
    "# Parameters, edit to taste\n",
    "\n",
    "# Date & time for ephemeris lookup\n",
    "\n",
    "OBS_TIME = '2025-01-13 20:00:00'\n",
    "\n",
    "# mimimum angular size of DSO to be visible in image\n",
    "DSO_MIN_SIZE = 2  # 5% of Seestar S50 FoV width\n",
    "\n",
    "# maximum magnitude for DSO to be visible \n",
    "DSO_MAX_MAG = 15  # approx limiting magnitude for Seestar S50\n",
    "\n",
    "# Max angular distance between asteroid and DSO\n",
    "MAX_SEPARATION_ARCMIN = 40 # approx frame width in Seestar S50"
   ]
  },
  {
   "cell_type": "code",
   "execution_count": 63,
   "metadata": {},
   "outputs": [],
   "source": [
    "# list of largest asteroids to search\n",
    "\n",
    "ASTEROIDS = ['Ceres',\n",
    "                      '4 Vesta',\n",
    "                       '2 Pallas',\n",
    "                       '10 Hygiea',\n",
    "                       '704 Interamnia',\n",
    "                       '52 Europa',\n",
    "                       '511 Davida',\n",
    "                       '87 Sylvia',\n",
    "                       '15 Eunomia',\n",
    "                       '31 Euphrosyne',\n",
    "                       '65 Cybele',\n",
    "                       '624 Hektor',\n",
    "                       '3 Juno',\n",
    "                       '451 Patientia',\n",
    "                       '107 Camilla',\n",
    "                       '324 Bamberga',\n",
    "                       '16 Psyche',\n",
    "                       '88 Thisbe',\n",
    "                       '48 Doris',\n",
    "                       '19 Fortuna',\n",
    "                       '121 Hermione',\n",
    "                       '24 Themis',\n",
    "                       '94 Aurora',\n",
    "                       '29 Amphitrite',\n",
    "                       '13 Egeria',\n",
    "                       '130 Elektra',\n",
    "                       '7 Iris',\n",
    "                       '6 Hebe',\n",
    "                       '375 Ursula',\n",
    "                       '702 Alauda',\n",
    "                       '45 Eugenia',\n",
    "                       '41 Daphne',\n",
    "                       '423 Diotima',\n",
    "                       '259 Aletheia',\n",
    "                       '372 Palma',\n",
    "                       '9 Metis',\n",
    "                       '532 Herculina',\n",
    "                       '354 Eleonora',\n",
    "                       '128 Nemesis'\n",
    "]"
   ]
  },
  {
   "cell_type": "code",
   "execution_count": null,
   "metadata": {},
   "outputs": [],
   "source": [
    "# Fetch ngc catalog from CDS vizier server\n",
    "# This code only needs to be run once to cache the table locally\n",
    "\n",
    "# from astroquery.vizier import Vizier\n",
    "\n",
    "# vizier = Vizier()\n",
    "# vizier.ROW_LIMIT = -1\n",
    "\n",
    "# ngc_tables = vizier.get_catalogs('VII/118/ngc2000')\n",
    "\n",
    "# # save ngc table locally for future reference\n",
    "\n",
    "# ngc_tables[0].write('./ngc_catalog.ecsv')\n"
   ]
  },
  {
   "cell_type": "code",
   "execution_count": null,
   "metadata": {},
   "outputs": [],
   "source": [
    "# create SkyCoord catalog of ngc DSOs for searching\n",
    "\n",
    "from astropy.io import ascii\n",
    "\n",
    "# load locally cached ngc table \n",
    "ngc_table = ascii.read('./ngc_catalog.ecsv')\n",
    "\n",
    "# filter table to size and magnitude limits\n",
    "\n",
    "filtered_ngc_table = ngc_table[ngc_table['size'] > DSO_MIN_SIZE]\n",
    "filtered_ngc_table = filtered_ngc_table[filtered_ngc_table['mag'] < DSO_MAX_MAG]"
   ]
  },
  {
   "cell_type": "code",
   "execution_count": 38,
   "metadata": {},
   "outputs": [],
   "source": [
    "from astropy.coordinates import SkyCoord\n",
    "import astropy.units as u\n",
    "\n",
    "ngc_catalog = SkyCoord(ra = filtered_ngc_table['RAB2000'], dec = filtered_ngc_table['DEB2000'],\n",
    "                       unit = (u.hourangle, u.deg))\n",
    "\n"
   ]
  },
  {
   "cell_type": "code",
   "execution_count": null,
   "metadata": {},
   "outputs": [],
   "source": [
    "# Query MPC Horizons service for asteroid ephemeris data\n",
    "\n",
    "from astroquery.mpc import MPC\n",
    "from astropy.table import vstack\n",
    "\n",
    "ephemerides = [MPC.get_ephemeris(a, start = OBS_TIME, number = 1) for a in ASTEROIDS]\n",
    "ephemerides = vstack(ephemerides)\n",
    "\n",
    "# create SkyCoord catalog for search\n",
    "ephemerides_cat = SkyCoord(ra = ephemerides['RA'], dec = ephemerides['Dec'], unit = u.deg)"
   ]
  },
  {
   "cell_type": "code",
   "execution_count": null,
   "metadata": {},
   "outputs": [
    {
     "name": "stdout",
     "output_type": "stream",
     "text": [
      "NGC 428 Gx <> 107 Camilla = 0d29m28.0442s\n",
      "NGC 514 Gx <> 10 Hygiea = 0d22m10.1012s\n",
      "NGC 926 Gx <> 511 Davida = 0d48m55.9664s\n",
      "NGC 936 Gx <> 511 Davida = 0d38m12.1036s\n",
      "NGC 941 Gx <> 511 Davida = 0d32m00.7319s\n",
      "NGC 955 Gx <> 511 Davida = 0d36m11.1529s\n",
      "NGC I 443 Nb <> 88 Thisbe = 0d21m07.6382s\n",
      "NGC 5705 Gx <> 451 Patientia = 0d25m35.5491s\n",
      "NGC 5713 Gx <> 451 Patientia = 0d49m29.9903s\n",
      "NGC 5719 Gx <> 451 Patientia = 0d47m38.8117s\n",
      "NGC 7309 Gx <> 16 Psyche = 0d54m47.2041s\n"
     ]
    }
   ],
   "source": [
    "# Find sky conjunctions of asteroid positions and NGC catalog\n",
    "\n",
    "idx_ngc, idx_asteroid, sep2d, _ = ephemerides_cat.search_around_sky(ngc_catalog, seplimit = MAX_SEPARATION_ARCMIN * u.arcmin)\n",
    "\n",
    "for ingc, ia, sep in zip(idx_ngc, idx_asteroid, sep2d):\n",
    "    print('NGC',filtered_ngc_table[ingc]['Name'],\n",
    "          filtered_ngc_table[ingc]['Type'],\n",
    "          '<>',\n",
    "          ASTEROIDS[ia],\n",
    "          '=',\n",
    "        sep)"
   ]
  },
  {
   "cell_type": "code",
   "execution_count": null,
   "metadata": {},
   "outputs": [],
   "source": []
  }
 ],
 "metadata": {
  "kernelspec": {
   "display_name": "base",
   "language": "python",
   "name": "python3"
  },
  "language_info": {
   "codemirror_mode": {
    "name": "ipython",
    "version": 3
   },
   "file_extension": ".py",
   "mimetype": "text/x-python",
   "name": "python",
   "nbconvert_exporter": "python",
   "pygments_lexer": "ipython3",
   "version": "3.8.8"
  }
 },
 "nbformat": 4,
 "nbformat_minor": 2
}
